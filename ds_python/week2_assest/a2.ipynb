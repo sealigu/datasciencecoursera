{
 "cells": [
  {
   "cell_type": "markdown",
   "metadata": {},
   "source": [
    "Question 1\n",
    "Write a function called proportion_of_education which returns the proportion of children in the dataset who had a mother with the education levels equal to less than high school (<12), high school (12), more than high school but not a college graduate (>12) and college degree.\n",
    "\n",
    "This function should return a dictionary in the form of (use the correct numbers, do not round numbers):\n",
    "\n",
    "    {\"less than high school\":0.2,\n",
    "    \"high school\":0.4,\n",
    "    \"more than high school but not college\":0.2,\n",
    "    \"college\":0.2}"
   ]
  },
  {
   "cell_type": "code",
   "execution_count": null,
   "metadata": {},
   "outputs": [],
   "source": [
    "def proportion_of_education():\n",
    "    # your code goes here\n",
    "    # YOUR CODE HERE\n",
    "    import pandas as pd\n",
    "    df = pd.read_csv(\"assets/NISPUF17.csv\")\n",
    "    md = df['EDUC1'].value_counts() / df['EDUC1'].shape[0]\n",
    "    l = ['less than high school', 'high school', 'more than high school but not college', 'college']\n",
    "    d = {}\n",
    "    i = 0\n",
    "    for j in l:\n",
    "        d[j] = md[i+1]\n",
    "        i += 1\n",
    "    return d\n",
    "    raise NotImplementedError()"
   ]
  },
  {
   "cell_type": "code",
   "execution_count": null,
   "metadata": {},
   "outputs": [],
   "source": [
    "assert type(proportion_of_education())==type({}), \"You must return a dictionary.\"\n",
    "assert len(proportion_of_education()) == 4, \"You have not returned a dictionary with four items in it.\"\n",
    "assert \"less than high school\" in proportion_of_education().keys(), \"You have not returned a dictionary with the correct keys.\"\n",
    "assert \"high school\" in proportion_of_education().keys(), \"You have not returned a dictionary with the correct keys.\"\n",
    "assert \"more than high school but not college\" in proportion_of_education().keys(), \"You have not returned a dictionary with the correct keys.\"\n",
    "assert \"college\" in proportion_of_education().keys(), \"You have not returned a dictionary with the correct keys.\"\n"
   ]
  },
  {
   "cell_type": "markdown",
   "metadata": {},
   "source": [
    "Question 2\n",
    "Let's explore the relationship between being fed breastmilk as a child and getting a seasonal influenza vaccine from a healthcare provider. Return a tuple of the average number of influenza vaccines for those children we know received breastmilk as a child and those who know did not.\n",
    "\n",
    "This function should return a tuple in the form (use the correct numbers:\n",
    "\n",
    "(2.5, 0.1)"
   ]
  },
  {
   "cell_type": "code",
   "execution_count": null,
   "metadata": {},
   "outputs": [],
   "source": [
    "def average_influenza_doses():\n",
    "    # YOUR CODE HERE\n",
    "    import pandas as pd\n",
    "    import numpy as np\n",
    "    df = pd.read_csv(\"assets/NISPUF17.csv\")\n",
    "    gp1 = df[df['CBF_01'] == 1]\n",
    "    gp2 = df[df['CBF_01'] == 2]\n",
    "    return (np.mean(gp1['P_NUMFLU']), np.mean(gp2['P_NUMFLU']))\n",
    "    raise NotImplementedError()"
   ]
  },
  {
   "cell_type": "code",
   "execution_count": null,
   "metadata": {},
   "outputs": [],
   "source": [
    "assert len(average_influenza_doses())==2, \"Return two values in a tuple, the first for yes and the second for no.\"\n"
   ]
  },
  {
   "cell_type": "markdown",
   "metadata": {},
   "source": [
    "Question 3\n",
    "It would be interesting to see if there is any evidence of a link between vaccine effectiveness and sex of the child. Calculate the ratio of the number of children who contracted chickenpox but were vaccinated against it (at least one varicella dose) versus those who were vaccinated but did not contract chicken pox. Return results by sex.\n",
    "\n",
    "This function should return a dictionary in the form of (use the correct numbers):\n",
    "\n",
    "    {\"male\":0.2,\n",
    "    \"female\":0.4}\n",
    "Note: To aid in verification, the chickenpox_by_sex()['female'] value the autograder is looking for starts with the digits 0.0077."
   ]
  },
  {
   "cell_type": "code",
   "execution_count": null,
   "metadata": {},
   "outputs": [],
   "source": [
    "def chickenpox_by_sex():\n",
    "    # YOUR CODE HERE\n",
    "    import pandas as pd\n",
    "    df = pd.read_csv(\"assets/NISPUF17.csv\")\n",
    "    sex = ['male', 'female']\n",
    "    \n",
    "    v1m = df[(df['P_NUMVRC'] >= 1) & (df['HAD_CPOX'] == 1) & (df['SEX'] == 1)]\n",
    "    v1f = df[(df['P_NUMVRC'] >= 1) & (df['HAD_CPOX'] == 1) & (df['SEX'] == 2)]\n",
    "    v2m = df[(df['P_NUMVRC'] >= 1) & (df['HAD_CPOX'] == 2) & (df['SEX'] == 1)]\n",
    "    v2f = df[(df['P_NUMVRC'] >= 1) & (df['HAD_CPOX'] == 2) & (df['SEX'] == 2)]\n",
    "    \n",
    "    rm = v1m.shape[0] / v2m.shape[0]\n",
    "    rf = v1f.shape[0] / v2f.shape[0]\n",
    "    ratio = [rm, rf]\n",
    "    d = {}\n",
    "    i = 0\n",
    "    for j in sex:\n",
    "        d[j] = ratio[i]\n",
    "        i += 1\n",
    "    return d\n",
    "    \n",
    "    raise NotImplementedError()"
   ]
  },
  {
   "cell_type": "code",
   "execution_count": null,
   "metadata": {},
   "outputs": [],
   "source": [
    "assert len(chickenpox_by_sex())==2, \"Return a dictionary with two items, the first for males and the second for females.\"\n"
   ]
  },
  {
   "cell_type": "markdown",
   "metadata": {},
   "source": [
    "Question 4\n",
    "A correlation is a statistical relationship between two variables. If we wanted to know if vaccines work, we might look at the correlation between the use of the vaccine and whether it results in prevention of the infection or disease [1]. In this question, you are to see if there is a correlation between having had the chicken pox and the number of chickenpox vaccine doses given (varicella).\n",
    "\n",
    "Some notes on interpreting the answer. If the had_chickenpox_column is either 1 (for yes) or 2 for no, and that the num_chickenpox_vaccine_column is the number of doses a child has been given of the varicella vaccine, then a positive correlation (e.g. corr > 0) would mean that an increase in had_chickenpox_column (which means more no's) would mean an increase in the num_chickenpox_vaccine_column (which means more doses of vaccine). If corr < 0 then there is a negative correlation, indicating that having had chickenpox is related to an increase in the number of vaccine doses. Also, pval refers to the probability the relationship observed is significant. In this case pval should be very very small (will end in e-18 indicating a very small number), which means the result unlikely to be by chance.\n",
    "\n",
    "[1] This isn't really the full picture, since we are not looking at when the dose was given. It's possible that children had chickenpox and then their parents went to get them the vaccine. Does this dataset have the data we would need to investigate the timing of the dose?"
   ]
  },
  {
   "cell_type": "code",
   "execution_count": null,
   "metadata": {},
   "outputs": [],
   "source": [
    "def corr_chickenpox():\n",
    "    import scipy.stats as stats\n",
    "    import numpy as np\n",
    "    import pandas as pd\n",
    "    \n",
    "    mb = pd.read_csv(\"assets/NISPUF17.csv\")\n",
    "    total = mb[(mb['P_NUMVRC'] >= 0) & (mb['HAD_CPOX'] <= 2)]\n",
    "    c1 = total['HAD_CPOX']\n",
    "    c2 = total['P_NUMVRC']\n",
    "    \n",
    "    df=pd.DataFrame({\"had_chickenpox_column\": c1,\n",
    "                   \"num_chickenpox_vaccine_column\": c2})\n",
    "    # this is just an example dataframe\n",
    "    # df=pd.DataFrame({\"had_chickenpox_column\":np.random.randint(1,3,size=(100)),\n",
    "    #                \"num_chickenpox_vaccine_column\":np.random.randint(0,6,size=(100))})\n",
    "\n",
    "    # here is some stub code to actually run the correlation\n",
    "    corr, pval=stats.pearsonr(df[\"had_chickenpox_column\"],df[\"num_chickenpox_vaccine_column\"])\n",
    "    \n",
    "    # just return the correlation\n",
    "    return corr\n",
    "\n",
    "    # YOUR CODE HERE\n",
    "    raise NotImplementedError()"
   ]
  },
  {
   "cell_type": "code",
   "execution_count": null,
   "metadata": {},
   "outputs": [],
   "source": [
    "assert -1<=corr_chickenpox()<=1, \"You must return a float number between -1.0 and 1.0.\"\n"
   ]
  }
 ],
 "metadata": {
  "kernelspec": {
   "display_name": "Python 3",
   "language": "python",
   "name": "python3"
  },
  "language_info": {
   "codemirror_mode": {
    "name": "ipython",
    "version": 3
   },
   "file_extension": ".py",
   "mimetype": "text/x-python",
   "name": "python",
   "nbconvert_exporter": "python",
   "pygments_lexer": "ipython3",
   "version": "3.6.9"
  }
 },
 "nbformat": 4,
 "nbformat_minor": 4
}
